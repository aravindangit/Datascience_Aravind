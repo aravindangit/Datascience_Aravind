{
 "cells": [
  {
   "cell_type": "code",
   "execution_count": 1,
   "metadata": {},
   "outputs": [
    {
     "name": "stdout",
     "output_type": "stream",
     "text": [
      "Aravindan\n"
     ]
    }
   ],
   "source": [
    "print(\"Aravindan\")"
   ]
  },
  {
   "cell_type": "code",
   "execution_count": 2,
   "metadata": {},
   "outputs": [
    {
     "name": "stdout",
     "output_type": "stream",
     "text": [
      "Aravindan\n"
     ]
    }
   ],
   "source": [
    "print(\"Aravindan\")"
   ]
  },
  {
   "cell_type": "code",
   "execution_count": 3,
   "metadata": {},
   "outputs": [
    {
     "name": "stdout",
     "output_type": "stream",
     "text": [
      "Aravindan\n"
     ]
    }
   ],
   "source": [
    "print(\"Aravindan\")"
   ]
  },
  {
   "cell_type": "code",
   "execution_count": 5,
   "metadata": {},
   "outputs": [
    {
     "name": "stderr",
     "output_type": "stream",
     "text": [
      "See http://johnmacfarlane.net/pandoc/installing.html\n",
      "for installation options\n",
      "---------------------------------------------------------------\n",
      "\n"
     ]
    },
    {
     "ename": "OSError",
     "evalue": "No pandoc was found: either install pandoc and add it\nto your PATH or or call pypandoc.download_pandoc(...) or\ninstall pypandoc wheels with included pandoc.",
     "output_type": "error",
     "traceback": [
      "\u001b[1;31m---------------------------------------------------------------------------\u001b[0m",
      "\u001b[1;31mOSError\u001b[0m                                   Traceback (most recent call last)",
      "\u001b[1;32m<ipython-input-5-38de375e1293>\u001b[0m in \u001b[0;36m<module>\u001b[1;34m()\u001b[0m\n\u001b[0;32m      1\u001b[0m \u001b[1;32mimport\u001b[0m \u001b[0mpypandoc\u001b[0m\u001b[1;33m\u001b[0m\u001b[0m\n\u001b[1;32m----> 2\u001b[1;33m \u001b[0moutput\u001b[0m \u001b[1;33m=\u001b[0m \u001b[0mpypandoc\u001b[0m\u001b[1;33m.\u001b[0m\u001b[0mconvert_file\u001b[0m\u001b[1;33m(\u001b[0m\u001b[1;34m\"newfile.ipynb\"\u001b[0m\u001b[1;33m,\u001b[0m\u001b[1;34m'pdf'\u001b[0m\u001b[1;33m,\u001b[0m\u001b[0moutputfile\u001b[0m\u001b[1;33m=\u001b[0m\u001b[1;34m'newfile.pdf'\u001b[0m\u001b[1;33m)\u001b[0m\u001b[1;33m\u001b[0m\u001b[0m\n\u001b[0m",
      "\u001b[1;32mh:\\appdata\\local\\programs\\python\\python36-32\\lib\\site-packages\\pypandoc\\__init__.py\u001b[0m in \u001b[0;36mconvert_file\u001b[1;34m(source_file, to, format, extra_args, encoding, outputfile, filters)\u001b[0m\n\u001b[0;32m    138\u001b[0m     \u001b[0mformat\u001b[0m \u001b[1;33m=\u001b[0m \u001b[0m_identify_format_from_path\u001b[0m\u001b[1;33m(\u001b[0m\u001b[0msource_file\u001b[0m\u001b[1;33m,\u001b[0m \u001b[0mformat\u001b[0m\u001b[1;33m)\u001b[0m\u001b[1;33m\u001b[0m\u001b[0m\n\u001b[0;32m    139\u001b[0m     return _convert_input(source_file, format, 'path', to, extra_args=extra_args,\n\u001b[1;32m--> 140\u001b[1;33m                           outputfile=outputfile, filters=filters)\n\u001b[0m\u001b[0;32m    141\u001b[0m \u001b[1;33m\u001b[0m\u001b[0m\n\u001b[0;32m    142\u001b[0m \u001b[1;33m\u001b[0m\u001b[0m\n",
      "\u001b[1;32mh:\\appdata\\local\\programs\\python\\python36-32\\lib\\site-packages\\pypandoc\\__init__.py\u001b[0m in \u001b[0;36m_convert_input\u001b[1;34m(source, format, input_type, to, extra_args, outputfile, filters)\u001b[0m\n\u001b[0;32m    258\u001b[0m def _convert_input(source, format, input_type, to, extra_args=(), outputfile=None,\n\u001b[0;32m    259\u001b[0m                    filters=None):\n\u001b[1;32m--> 260\u001b[1;33m     \u001b[0m_ensure_pandoc_path\u001b[0m\u001b[1;33m(\u001b[0m\u001b[1;33m)\u001b[0m\u001b[1;33m\u001b[0m\u001b[0m\n\u001b[0m\u001b[0;32m    261\u001b[0m \u001b[1;33m\u001b[0m\u001b[0m\n\u001b[0;32m    262\u001b[0m     \u001b[0mformat\u001b[0m\u001b[1;33m,\u001b[0m \u001b[0mto\u001b[0m \u001b[1;33m=\u001b[0m \u001b[0m_validate_formats\u001b[0m\u001b[1;33m(\u001b[0m\u001b[0mformat\u001b[0m\u001b[1;33m,\u001b[0m \u001b[0mto\u001b[0m\u001b[1;33m,\u001b[0m \u001b[0moutputfile\u001b[0m\u001b[1;33m)\u001b[0m\u001b[1;33m\u001b[0m\u001b[0m\n",
      "\u001b[1;32mh:\\appdata\\local\\programs\\python\\python36-32\\lib\\site-packages\\pypandoc\\__init__.py\u001b[0m in \u001b[0;36m_ensure_pandoc_path\u001b[1;34m()\u001b[0m\n\u001b[0;32m    542\u001b[0m \u001b[1;33m\u001b[0m\u001b[0m\n\u001b[0;32m    543\u001b[0m             \"\"\"))\n\u001b[1;32m--> 544\u001b[1;33m             raise OSError(\"No pandoc was found: either install pandoc and add it\\n\"\n\u001b[0m\u001b[0;32m    545\u001b[0m                           \u001b[1;34m\"to your PATH or or call pypandoc.download_pandoc(...) or\\n\"\u001b[0m\u001b[1;33m\u001b[0m\u001b[0m\n\u001b[0;32m    546\u001b[0m                           \"install pypandoc wheels with included pandoc.\")\n",
      "\u001b[1;31mOSError\u001b[0m: No pandoc was found: either install pandoc and add it\nto your PATH or or call pypandoc.download_pandoc(...) or\ninstall pypandoc wheels with included pandoc."
     ]
    }
   ],
   "source": [
    "import pypandoc\n",
    "output = pypandoc.convert_file(\"newfile.ipynb\",'pdf',outputfile='newfile.pdf')"
   ]
  },
  {
   "cell_type": "code",
   "execution_count": null,
   "metadata": {},
   "outputs": [],
   "source": []
  }
 ],
 "metadata": {
  "kernelspec": {
   "display_name": "Python 3",
   "language": "python",
   "name": "python3"
  },
  "language_info": {
   "codemirror_mode": {
    "name": "ipython",
    "version": 3
   },
   "file_extension": ".py",
   "mimetype": "text/x-python",
   "name": "python",
   "nbconvert_exporter": "python",
   "pygments_lexer": "ipython3",
   "version": "3.6.5"
  }
 },
 "nbformat": 4,
 "nbformat_minor": 2
}
